{
 "cells": [
  {
   "cell_type": "markdown",
   "id": "227f56e2",
   "metadata": {},
   "source": [
    "# Creation of Array"
   ]
  },
  {
   "cell_type": "code",
   "execution_count": 1,
   "id": "bf8ca1f6",
   "metadata": {},
   "outputs": [],
   "source": [
    "#Exp no.:5"
   ]
  },
  {
   "cell_type": "code",
   "execution_count": 2,
   "id": "45f35f5b",
   "metadata": {},
   "outputs": [],
   "source": [
    "#Aim:- Creation of Array using Numpy.\n"
   ]
  },
  {
   "cell_type": "code",
   "execution_count": 3,
   "id": "600b3349",
   "metadata": {},
   "outputs": [],
   "source": [
    "#Name:Yashpal Bahekar\n",
    "#Roll no.: 10\n",
    "#Sec: A"
   ]
  },
  {
   "cell_type": "code",
   "execution_count": 3,
   "id": "5acbf590",
   "metadata": {},
   "outputs": [],
   "source": [
    "#importing the basic library\n",
    "import numpy as np"
   ]
  },
  {
   "cell_type": "code",
   "execution_count": 4,
   "id": "ec4203a1",
   "metadata": {},
   "outputs": [],
   "source": [
    "# Create a Python list\n",
    "my_list = [1, 2, 3, 4, 5]"
   ]
  },
  {
   "cell_type": "code",
   "execution_count": 5,
   "id": "17c013c7",
   "metadata": {},
   "outputs": [],
   "source": [
    "# Convert the list to a NumPy array\n",
    "my_array = np.array(my_list)"
   ]
  },
  {
   "cell_type": "code",
   "execution_count": 6,
   "id": "8b9d05be",
   "metadata": {},
   "outputs": [
    {
     "name": "stdout",
     "output_type": "stream",
     "text": [
      "[1 2 3 4 5]\n"
     ]
    }
   ],
   "source": [
    "print(my_array)"
   ]
  },
  {
   "cell_type": "code",
   "execution_count": null,
   "id": "40df9816",
   "metadata": {},
   "outputs": [],
   "source": []
  }
 ],
 "metadata": {
  "kernelspec": {
   "display_name": "Python 3 (ipykernel)",
   "language": "python",
   "name": "python3"
  },
  "language_info": {
   "codemirror_mode": {
    "name": "ipython",
    "version": 3
   },
   "file_extension": ".py",
   "mimetype": "text/x-python",
   "name": "python",
   "nbconvert_exporter": "python",
   "pygments_lexer": "ipython3",
   "version": "3.9.7"
  }
 },
 "nbformat": 4,
 "nbformat_minor": 5
}
