{
 "cells": [
  {
   "cell_type": "markdown",
   "id": "227f56e2",
   "metadata": {},
   "source": [
    "# Central Tendancy of Measures"
   ]
  },
  {
   "cell_type": "code",
   "execution_count": 2,
   "id": "bf8ca1f6",
   "metadata": {},
   "outputs": [],
   "source": [
    "#Exp no.:8"
   ]
  },
  {
   "cell_type": "code",
   "execution_count": 2,
   "id": "45f35f5b",
   "metadata": {},
   "outputs": [],
   "source": [
    "#Aim: To perform operation on Central Tendancy of Measures\n"
   ]
  },
  {
   "cell_type": "code",
   "execution_count": 3,
   "id": "600b3349",
   "metadata": {},
   "outputs": [],
   "source": [
    "#Name:Yashpal Bahekar\n",
    "#Roll no.: 10\n",
    "#Sec: A\n"
   ]
  },
  {
   "cell_type": "code",
   "execution_count": 4,
   "id": "5acbf590",
   "metadata": {},
   "outputs": [],
   "source": [
    "#importing the basic library\n",
    "import numpy as np"
   ]
  },
  {
   "cell_type": "code",
   "execution_count": 5,
   "id": "ec4203a1",
   "metadata": {},
   "outputs": [],
   "source": [
    "data = [1, 2, 3, 4, 5]"
   ]
  },
  {
   "cell_type": "code",
   "execution_count": 6,
   "id": "17c013c7",
   "metadata": {},
   "outputs": [],
   "source": [
    "mean = np.mean(data)"
   ]
  },
  {
   "cell_type": "code",
   "execution_count": 7,
   "id": "8b9d05be",
   "metadata": {},
   "outputs": [
    {
     "name": "stdout",
     "output_type": "stream",
     "text": [
      "3.0\n"
     ]
    }
   ],
   "source": [
    "print(mean)"
   ]
  },
  {
   "cell_type": "code",
   "execution_count": 8,
   "id": "9ac4db33",
   "metadata": {},
   "outputs": [],
   "source": [
    "median = np.median(data)"
   ]
  },
  {
   "cell_type": "code",
   "execution_count": 9,
   "id": "8413b43b",
   "metadata": {},
   "outputs": [
    {
     "name": "stdout",
     "output_type": "stream",
     "text": [
      "3.0\n"
     ]
    }
   ],
   "source": [
    "print(median)"
   ]
  },
  {
   "cell_type": "code",
   "execution_count": 10,
   "id": "28045641",
   "metadata": {},
   "outputs": [],
   "source": [
    "from scipy import stats"
   ]
  },
  {
   "cell_type": "code",
   "execution_count": 11,
   "id": "0e022505",
   "metadata": {},
   "outputs": [],
   "source": [
    "\n",
    "data = [1, 2, 2, 3, 3, 3, 4, 5]"
   ]
  },
  {
   "cell_type": "code",
   "execution_count": 12,
   "id": "da827a99",
   "metadata": {},
   "outputs": [],
   "source": [
    "mode = stats.mode(data)"
   ]
  },
  {
   "cell_type": "code",
   "execution_count": 13,
   "id": "16be7d94",
   "metadata": {},
   "outputs": [
    {
     "name": "stdout",
     "output_type": "stream",
     "text": [
      "3\n"
     ]
    }
   ],
   "source": [
    "print(mode.mode[0])"
   ]
  },
  {
   "cell_type": "code",
   "execution_count": null,
   "id": "d5555877",
   "metadata": {},
   "outputs": [],
   "source": []
  }
 ],
 "metadata": {
  "kernelspec": {
   "display_name": "Python 3 (ipykernel)",
   "language": "python",
   "name": "python3"
  },
  "language_info": {
   "codemirror_mode": {
    "name": "ipython",
    "version": 3
   },
   "file_extension": ".py",
   "mimetype": "text/x-python",
   "name": "python",
   "nbconvert_exporter": "python",
   "pygments_lexer": "ipython3",
   "version": "3.9.7"
  }
 },
 "nbformat": 4,
 "nbformat_minor": 5
}
